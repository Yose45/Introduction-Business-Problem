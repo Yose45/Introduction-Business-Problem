{
    "cells": [
        {
            "cell_type": "markdown",
            "metadata": {
                "collapsed": true
            },
            "source": "Introduction:\nThe main goal of this project is to use the principles of data science along with the Foursquare API to explore the neighborhoods of New York City in order to locate the area with the highest Ethiopian population and see if there are Ethiopian restaurants or food stores that can support the community within a close proximity before making the decision to open a new one. \n\nBusiness Problem/ Why the need to open Ethiopian Restaurant/store:\n-\tTo seize a stable business opportunity especially If there is no competition in the area. (If no other Ethiopian restaurants are located here.)\n-\tTo create community networking and public relation among Ethiopians in the area. \n-\tTo provide Injera also knows as the Ethiopian spongy bread with a reasonable price to the community since making this bread at home will cost a lot of time and money. (Injera is the crepe-like bread made from the grain teff on which spicy Ethiopian food is served and eaten communally by hand). \n-\tMany Americans and foreign nationals are looking for new food experience and this provides the opportunity to let customers try and enjoy a broad range of tasty exotic dishes. \n\n"
        },
        {
            "cell_type": "code",
            "execution_count": null,
            "metadata": {},
            "outputs": [],
            "source": ""
        }
    ],
    "metadata": {
        "kernelspec": {
            "display_name": "Python 3.6",
            "language": "python",
            "name": "python3"
        },
        "language_info": {
            "codemirror_mode": {
                "name": "ipython",
                "version": 3
            },
            "file_extension": ".py",
            "mimetype": "text/x-python",
            "name": "python",
            "nbconvert_exporter": "python",
            "pygments_lexer": "ipython3",
            "version": "3.6.9"
        }
    },
    "nbformat": 4,
    "nbformat_minor": 1
}